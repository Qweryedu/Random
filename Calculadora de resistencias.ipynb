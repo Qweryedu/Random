{
 "cells": [
  {
   "cell_type": "code",
   "execution_count": 5,
   "metadata": {},
   "outputs": [
    {
     "name": "stdout",
     "output_type": "stream",
     "text": [
      "El valor de la resistencia tendrá que ser  10.65\n"
     ]
    }
   ],
   "source": [
    "'''\n",
    "Calculadora de resistencias\n",
    "Resistencias se pondrán en Ohms y voltajes en volts\n",
    "'''\n",
    "Rl =  #Resistencia del motor\n",
    "Vl = 12 #Voltaje máximo del motor\n",
    "Vcc = 20.1 #Voltaje de entrada\n",
    "R = Rl*(Vcc - Vl)/Vl\n",
    "print('El valor de la resistencia tendrá que ser ', R)"
   ]
  }
 ],
 "metadata": {
  "kernelspec": {
   "display_name": "Python 3",
   "language": "python",
   "name": "python3"
  },
  "language_info": {
   "codemirror_mode": {
    "name": "ipython",
    "version": 3
   },
   "file_extension": ".py",
   "mimetype": "text/x-python",
   "name": "python",
   "nbconvert_exporter": "python",
   "pygments_lexer": "ipython3",
   "version": "3.7.3"
  }
 },
 "nbformat": 4,
 "nbformat_minor": 2
}
